{
 "metadata": {
  "language_info": {
   "codemirror_mode": {
    "name": "ipython",
    "version": 3
   },
   "file_extension": ".py",
   "mimetype": "text/x-python",
   "name": "python",
   "nbconvert_exporter": "python",
   "pygments_lexer": "ipython3",
   "version": "3.8.5"
  },
  "orig_nbformat": 2,
  "kernelspec": {
   "name": "python385jvsc74a57bd0f0645d7c5da503ba2b9a0668f913c634821e14bc882840fdcaf12f01cae21426",
   "display_name": "Python 3.8.5 64-bit ('base': conda)"
  }
 },
 "nbformat": 4,
 "nbformat_minor": 2,
 "cells": [
  {
   "cell_type": "code",
   "execution_count": 11,
   "metadata": {},
   "outputs": [],
   "source": [
    "#Task 4.3 :Crop Some Part of Image and swap it with another part of the Image\n",
    "\n",
    "import cv2\n",
    "P1=cv2.imread('A1.jpg')\n",
    "P2=cv2.imread('B.jpg')\n",
    "#P1.shape\n",
    "P2.shape\n",
    "'''\n",
    "cv2.imshow('First Image',P1)\n",
    "cv2.waitKey()\n",
    "cv2.destroyAllWindows()'''\n",
    "cv2.imshow(' Image',P2)\n",
    "cv2.waitKey()\n",
    "cv2.destroyAllWindows()\n",
    "P1[300:500,300:500]=P2[300:500,300:500]\n",
    "cv2.imshow(' Image',P1)\n",
    "cv2.waitKey()\n",
    "cv2.destroyAllWindows()\n",
    "\n"
   ]
  },
  {
   "cell_type": "code",
   "execution_count": null,
   "metadata": {},
   "outputs": [],
   "source": []
  }
 ]
}