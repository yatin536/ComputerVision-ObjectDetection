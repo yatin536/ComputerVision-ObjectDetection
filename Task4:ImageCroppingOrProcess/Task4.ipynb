{
 "metadata": {
  "language_info": {
   "codemirror_mode": {
    "name": "ipython",
    "version": 3
   },
   "file_extension": ".py",
   "mimetype": "text/x-python",
   "name": "python",
   "nbconvert_exporter": "python",
   "pygments_lexer": "ipython3",
   "version": "3.8.5"
  },
  "orig_nbformat": 2,
  "kernelspec": {
   "name": "python385jvsc74a57bd0f0645d7c5da503ba2b9a0668f913c634821e14bc882840fdcaf12f01cae21426",
   "display_name": "Python 3.8.5 64-bit ('base': conda)"
  }
 },
 "nbformat": 4,
 "nbformat_minor": 2,
 "cells": [
  {
   "cell_type": "code",
   "execution_count": 26,
   "metadata": {
    "tags": []
   },
   "outputs": [],
   "source": [
    "#Task 4.1 First way\n",
    "import numpy as np \n",
    "import cv2\n",
    "import random\n",
    "img=np.zeros([600,600,3])\n",
    "#img\n",
    "for i in range(len(img)):\n",
    "    R=random.randrange(0,255)\n",
    "    G=random.randrange(0,255)\n",
    "    B=random.randrange(0,255)\n",
    "    img[i:,:i][:,:300]=(R,G,B)\n",
    "    img[i:,:][:,:200]=(B,G,R)\n",
    "\n",
    "cv2.imshow('yatin',img)\n",
    "cv2.waitKey()\n",
    "cv2.destroyAllWindows()\n"
   ]
  },
  {
   "cell_type": "code",
   "execution_count": 7,
   "metadata": {},
   "outputs": [],
   "source": [
    "#Task 4.1\n",
    "import numpy as np \n",
    "import cv2 as cv \n",
    "import random as rd "
   ]
  },
  {
   "cell_type": "code",
   "execution_count": 30,
   "metadata": {},
   "outputs": [],
   "source": [
    "img=np.zeros([600,600,3]) #creating an array of 0's of size 600*600 that will be of 3 channels\n",
    "img[200,200:400,0]=rd.randrange(0,255)\n",
    "img.shape\n",
    "i=201\n",
    "j=199\n",
    "while i!=250 and j!=150:\n",
    "    img[i,j,0]=rd.randrange(0,255)\n",
    "    i+=1\n",
    "    j-=1\n",
    "i=201\n",
    "j=199\n",
    "while i!=250:\n",
    "    img[i,j,0]=rd.randrange(0,255)\n",
    "    i+=1\n",
    "    j+=1\n",
    "img[250,150:450,0]=rd.randrange(0,255)\n",
    "i=0\n",
    "j=0\n",
    "while i!=250:\n",
    "    img[i,j,0]=rd.randrange(0,255)\n",
    "    i+=1\n",
    "    j+=1\n",
    "img[200:390,150,0]=rd.randrange(0,255)\n",
    "img[150:290,247,0]=rd.randrange(0,255)\n",
    "img[350:390,450,0]=rd.randrange(0,255)\n",
    "img[390,250:451,0]=rd.randrange(0,255)\n",
    "img[320:390,180,0]=rd.randrange(0,255)\n",
    "img[320:290,220,0]=rd.randrange(0,255)\n",
    "img[320,180:221,0]=rd.randrange(0,255)\n",
    "img[280,300:400,0]=rd.randrange(0,255)\n",
    "img[280:350,300,0]=rd.randrange(0,255)\n",
    "img[150,300:400,0]=rd.randrange(0,255)\n",
    "img[180:350,400,0]=rd.randrange(0,255)\n",
    "img[115,300:rd.randrange(300,450),0]=rd.randrange(0,255)\n",
    "img[280:rd.randrange(300,450),300,0]=rd.randrange(0,255)\n",
    "cv.imshow(\"AutoImage\",img)\n",
    "cv.waitKey()\n",
    "cv.destroyAllWindows()"
   ]
  },
  {
   "cell_type": "code",
   "execution_count": null,
   "metadata": {},
   "outputs": [],
   "source": []
  }
 ]
}