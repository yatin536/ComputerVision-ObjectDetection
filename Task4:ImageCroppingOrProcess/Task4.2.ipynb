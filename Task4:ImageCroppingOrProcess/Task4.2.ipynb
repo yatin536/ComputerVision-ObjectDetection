{
 "metadata": {
  "language_info": {
   "codemirror_mode": {
    "name": "ipython",
    "version": 3
   },
   "file_extension": ".py",
   "mimetype": "text/x-python",
   "name": "python",
   "nbconvert_exporter": "python",
   "pygments_lexer": "ipython3",
   "version": 3
  },
  "orig_nbformat": 2
 },
 "nbformat": 4,
 "nbformat_minor": 2,
 "cells": [
  {
   "cell_type": "code",
   "execution_count": null,
   "metadata": {},
   "outputs": [],
   "source": [
    "#4.3\n",
    "P1=cv2.imread('A1.jpg')\n",
    "P2=cv2.imread('B.jpg')\n",
    "P1.shape\n",
    "#P1= cv2.cvtColor(P1, cv2.COLOR_BGR2GRAY)\n",
    "#P2 = cv2.cvtColor(P2, cv2.COLOR_BGR2GRAY)\n",
    "#P2.shape\n",
    "#C=np.hstack((P1,P2))\n",
    "#im_v = cv2.vconcat([P1,P2])\n",
    "im_2=np.concatenate((P1, P2), axis=0)\n",
    "cv2.imwrite('opencv_vconcat.jpg', im_2)\n",
    "im_2=np.concatenate((P1, P2), axis=0)\n",
    "#C.shape\n",
    "#cv.imshow('dd',P2)\n",
    "#cv.waitKey(10)\n",
    "#cv.destroyAllWindows()"
   ]
  }
 ]
}