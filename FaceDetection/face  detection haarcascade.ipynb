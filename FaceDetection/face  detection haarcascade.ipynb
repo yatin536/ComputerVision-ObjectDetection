{
 "cells": [
  {
   "cell_type": "code",
   "execution_count": 1,
   "id": "097989e7",
   "metadata": {},
   "outputs": [],
   "source": [
    "import cv2"
   ]
  },
  {
   "cell_type": "code",
   "execution_count": 2,
   "id": "fa04c66c",
   "metadata": {},
   "outputs": [],
   "source": [
    "#photo  =  cv2.imread('A.jpg')"
   ]
  },
  {
   "cell_type": "code",
   "execution_count": 4,
   "id": "db65e40a",
   "metadata": {},
   "outputs": [],
   "source": [
    "#photo.shape"
   ]
  },
  {
   "cell_type": "code",
   "execution_count": null,
   "id": "f2203dba",
   "metadata": {},
   "outputs": [],
   "source": [
    "#cv2.imshow('hi', photo)\n",
    "#cv2.waitKey()\n",
    "#cv2.destroyAllWindows()"
   ]
  },
  {
   "cell_type": "code",
   "execution_count": null,
   "id": "9db4470b",
   "metadata": {},
   "outputs": [],
   "source": [
    "#rphoto = cv2.rectangle(photo, (100,100),(320,380), [0,255,0], 5 )"
   ]
  },
  {
   "cell_type": "code",
   "execution_count": null,
   "id": "490dbdfd",
   "metadata": {},
   "outputs": [],
   "source": [
    "#cv2.imshow('hi', rphoto)\n",
    "#cv2.waitKey()\n",
    "#cv2.destroyAllWindows()"
   ]
  },
  {
   "cell_type": "code",
   "execution_count": null,
   "id": "74306614",
   "metadata": {},
   "outputs": [],
   "source": [
    "model = cv2.CascadeClassifier('haarcascade_frontalface_default.xml')"
   ]
  },
  {
   "cell_type": "code",
   "execution_count": null,
   "id": "ac16d628",
   "metadata": {},
   "outputs": [],
   "source": [
    "model"
   ]
  },
  {
   "cell_type": "code",
   "execution_count": null,
   "id": "4b73c191",
   "metadata": {},
   "outputs": [],
   "source": [
    "cap = cv2.VideoCapture(0)"
   ]
  },
  {
   "cell_type": "code",
   "execution_count": null,
   "id": "297875db",
   "metadata": {},
   "outputs": [],
   "source": []
  },
  {
   "cell_type": "code",
   "execution_count": null,
   "id": "4a32f9ca",
   "metadata": {},
   "outputs": [],
   "source": [
    "while True:\n",
    "    ret, photo = cap.read()\n",
    "    faces =  model.detectMultiScale(photo)\n",
    "    if  len(faces) == 0:\n",
    "        pass\n",
    "    else:\n",
    "        x1=faces[0][0]\n",
    "        y1=faces[0][1]\n",
    "        x2=x1 + faces[0][2]\n",
    "        y2=y1 + faces[0][3]\n",
    "\n",
    "        aphoto = cv2.rectangle(photo, (x1,y1),(x2,y2), [0,255,0], 5 )\n",
    "        cv2.imshow('hi', aphoto)\n",
    "        if cv2.waitKey(200) == 13:\n",
    "            break\n",
    "        \n",
    "        \n",
    "cv2.destroyAllWindows()\n"
   ]
  },
  {
   "cell_type": "code",
   "execution_count": null,
   "id": "6a312964",
   "metadata": {},
   "outputs": [],
   "source": [
    "if (len(faces)>=1):\n",
    "    print(\"Alert! Intrudder Found\")\n",
    "    "
   ]
  },
  {
   "cell_type": "code",
   "execution_count": null,
   "id": "b30c267a",
   "metadata": {},
   "outputs": [],
   "source": [
    "cap.release()"
   ]
  },
  {
   "cell_type": "code",
   "execution_count": null,
   "id": "2a12dbd2",
   "metadata": {},
   "outputs": [],
   "source": [
    "faces"
   ]
  },
  {
   "cell_type": "code",
   "execution_count": null,
   "id": "2df3dee8",
   "metadata": {},
   "outputs": [],
   "source": [
    "if len(faces)  == 0:\n",
    "    pass\n",
    "else:\n",
    "    print(\"crop it\")"
   ]
  },
  {
   "cell_type": "code",
   "execution_count": null,
   "id": "9fbc3ccf",
   "metadata": {},
   "outputs": [],
   "source": []
  },
  {
   "cell_type": "code",
   "execution_count": null,
   "id": "10c2b3c1",
   "metadata": {},
   "outputs": [],
   "source": [
    "import numpy"
   ]
  },
  {
   "cell_type": "code",
   "execution_count": null,
   "id": "de19b049",
   "metadata": {},
   "outputs": [],
   "source": [
    "a = numpy.array([])"
   ]
  },
  {
   "cell_type": "code",
   "execution_count": null,
   "id": "1f7c2ae3",
   "metadata": {},
   "outputs": [],
   "source": [
    "len(a)"
   ]
  },
  {
   "cell_type": "code",
   "execution_count": null,
   "id": "99b84a6a",
   "metadata": {},
   "outputs": [],
   "source": [
    "a"
   ]
  },
  {
   "cell_type": "code",
   "execution_count": null,
   "id": "b06f9b71",
   "metadata": {},
   "outputs": [],
   "source": [
    "a[0][2]"
   ]
  },
  {
   "cell_type": "code",
   "execution_count": null,
   "id": "5d22caba",
   "metadata": {},
   "outputs": [],
   "source": [
    "a"
   ]
  },
  {
   "cell_type": "code",
   "execution_count": null,
   "id": "e7f082b8",
   "metadata": {},
   "outputs": [],
   "source": []
  }
 ],
 "metadata": {
  "kernelspec": {
   "name": "python385jvsc74a57bd0f0645d7c5da503ba2b9a0668f913c634821e14bc882840fdcaf12f01cae21426",
   "display_name": "Python 3.8.5 64-bit ('base': conda)"
  },
  "language_info": {
   "codemirror_mode": {
    "name": "ipython",
    "version": 3
   },
   "file_extension": ".py",
   "mimetype": "text/x-python",
   "name": "python",
   "nbconvert_exporter": "python",
   "pygments_lexer": "ipython3",
   "version": "3.8.5"
  }
 },
 "nbformat": 4,
 "nbformat_minor": 5
}